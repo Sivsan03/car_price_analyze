{
 "cells": [
  {
   "cell_type": "code",
   "execution_count": 1,
   "id": "2dacbbc2",
   "metadata": {
    "scrolled": true
   },
   "outputs": [],
   "source": [
    "#packages import\n",
    "import pandas as pd\n",
    "import numpy as np\n",
    "import seaborn as sb\n",
    "import matplotlib.pyplot as plt"
   ]
  },
  {
   "cell_type": "code",
   "execution_count": 2,
   "id": "ae2d37b9",
   "metadata": {
    "scrolled": true
   },
   "outputs": [
    {
     "data": {
      "text/html": [
       "<div>\n",
       "<style scoped>\n",
       "    .dataframe tbody tr th:only-of-type {\n",
       "        vertical-align: middle;\n",
       "    }\n",
       "\n",
       "    .dataframe tbody tr th {\n",
       "        vertical-align: top;\n",
       "    }\n",
       "\n",
       "    .dataframe thead th {\n",
       "        text-align: right;\n",
       "    }\n",
       "</style>\n",
       "<table border=\"1\" class=\"dataframe\">\n",
       "  <thead>\n",
       "    <tr style=\"text-align: right;\">\n",
       "      <th></th>\n",
       "      <th>money</th>\n",
       "      <th>brand</th>\n",
       "      <th>model</th>\n",
       "      <th>year</th>\n",
       "      <th>color</th>\n",
       "      <th>fuel_type</th>\n",
       "      <th>door</th>\n",
       "      <th>gear</th>\n",
       "      <th>motor</th>\n",
       "      <th>body_type</th>\n",
       "      <th>kilometres</th>\n",
       "      <th>currency</th>\n",
       "    </tr>\n",
       "  </thead>\n",
       "  <tbody>\n",
       "    <tr>\n",
       "      <th>0</th>\n",
       "      <td>10350000</td>\n",
       "      <td>Toyota</td>\n",
       "      <td>Corolla Cross</td>\n",
       "      <td>2022</td>\n",
       "      <td>Plateado</td>\n",
       "      <td>Nafta</td>\n",
       "      <td>5.0</td>\n",
       "      <td>Automática</td>\n",
       "      <td>NaN</td>\n",
       "      <td>SUV</td>\n",
       "      <td>500</td>\n",
       "      <td>pesos</td>\n",
       "    </tr>\n",
       "    <tr>\n",
       "      <th>1</th>\n",
       "      <td>10850000</td>\n",
       "      <td>Jeep</td>\n",
       "      <td>Compass</td>\n",
       "      <td>2022</td>\n",
       "      <td>Blanco</td>\n",
       "      <td>Nafta</td>\n",
       "      <td>5.0</td>\n",
       "      <td>Automática</td>\n",
       "      <td>2.4</td>\n",
       "      <td>SUV</td>\n",
       "      <td>500</td>\n",
       "      <td>pesos</td>\n",
       "    </tr>\n",
       "    <tr>\n",
       "      <th>2</th>\n",
       "      <td>35500</td>\n",
       "      <td>Jeep</td>\n",
       "      <td>Compass</td>\n",
       "      <td>2022</td>\n",
       "      <td>Gris oscuro</td>\n",
       "      <td>Nafta</td>\n",
       "      <td>5.0</td>\n",
       "      <td>Automática</td>\n",
       "      <td>2.4</td>\n",
       "      <td>SUV</td>\n",
       "      <td>500</td>\n",
       "      <td>dólares</td>\n",
       "    </tr>\n",
       "    <tr>\n",
       "      <th>3</th>\n",
       "      <td>19000</td>\n",
       "      <td>Citroën</td>\n",
       "      <td>C4 Cactus</td>\n",
       "      <td>2022</td>\n",
       "      <td>Gris oscuro</td>\n",
       "      <td>Nafta</td>\n",
       "      <td>5.0</td>\n",
       "      <td>Automática</td>\n",
       "      <td>NaN</td>\n",
       "      <td>SUV</td>\n",
       "      <td>550</td>\n",
       "      <td>dólares</td>\n",
       "    </tr>\n",
       "    <tr>\n",
       "      <th>4</th>\n",
       "      <td>5800000</td>\n",
       "      <td>Toyota</td>\n",
       "      <td>Corolla</td>\n",
       "      <td>2019</td>\n",
       "      <td>Gris</td>\n",
       "      <td>Nafta</td>\n",
       "      <td>4.0</td>\n",
       "      <td>Manual</td>\n",
       "      <td>1.8</td>\n",
       "      <td>Sedán</td>\n",
       "      <td>9000</td>\n",
       "      <td>pesos</td>\n",
       "    </tr>\n",
       "    <tr>\n",
       "      <th>...</th>\n",
       "      <td>...</td>\n",
       "      <td>...</td>\n",
       "      <td>...</td>\n",
       "      <td>...</td>\n",
       "      <td>...</td>\n",
       "      <td>...</td>\n",
       "      <td>...</td>\n",
       "      <td>...</td>\n",
       "      <td>...</td>\n",
       "      <td>...</td>\n",
       "      <td>...</td>\n",
       "      <td>...</td>\n",
       "    </tr>\n",
       "    <tr>\n",
       "      <th>505</th>\n",
       "      <td>5250000</td>\n",
       "      <td>Chevrolet</td>\n",
       "      <td>Tracker</td>\n",
       "      <td>2018</td>\n",
       "      <td>Gris</td>\n",
       "      <td>Nafta</td>\n",
       "      <td>5.0</td>\n",
       "      <td>Automática</td>\n",
       "      <td>1.8</td>\n",
       "      <td>SUV</td>\n",
       "      <td>52000</td>\n",
       "      <td>pesos</td>\n",
       "    </tr>\n",
       "    <tr>\n",
       "      <th>506</th>\n",
       "      <td>46000</td>\n",
       "      <td>Volkswagen</td>\n",
       "      <td>Amarok</td>\n",
       "      <td>2019</td>\n",
       "      <td>Gris</td>\n",
       "      <td>Diésel</td>\n",
       "      <td>4.0</td>\n",
       "      <td>Automática</td>\n",
       "      <td>3.0</td>\n",
       "      <td>Pick-Up</td>\n",
       "      <td>49000</td>\n",
       "      <td>dólares</td>\n",
       "    </tr>\n",
       "    <tr>\n",
       "      <th>507</th>\n",
       "      <td>3960000</td>\n",
       "      <td>Peugeot</td>\n",
       "      <td>2008</td>\n",
       "      <td>2017</td>\n",
       "      <td>Blanco</td>\n",
       "      <td>Nafta</td>\n",
       "      <td>5.0</td>\n",
       "      <td>Manual</td>\n",
       "      <td>1.6</td>\n",
       "      <td>SUV</td>\n",
       "      <td>75358</td>\n",
       "      <td>pesos</td>\n",
       "    </tr>\n",
       "    <tr>\n",
       "      <th>508</th>\n",
       "      <td>44900</td>\n",
       "      <td>Volkswagen</td>\n",
       "      <td>Amarok</td>\n",
       "      <td>2019</td>\n",
       "      <td>Gris</td>\n",
       "      <td>Diésel</td>\n",
       "      <td>4.0</td>\n",
       "      <td>Automática</td>\n",
       "      <td>3.0</td>\n",
       "      <td>Pick-Up</td>\n",
       "      <td>57500</td>\n",
       "      <td>dólares</td>\n",
       "    </tr>\n",
       "    <tr>\n",
       "      <th>509</th>\n",
       "      <td>2890000</td>\n",
       "      <td>Toyota</td>\n",
       "      <td>Etios</td>\n",
       "      <td>2015</td>\n",
       "      <td>Gris</td>\n",
       "      <td>Nafta</td>\n",
       "      <td>5.0</td>\n",
       "      <td>Manual</td>\n",
       "      <td>1.5</td>\n",
       "      <td>Hatchback</td>\n",
       "      <td>84000</td>\n",
       "      <td>pesos</td>\n",
       "    </tr>\n",
       "  </tbody>\n",
       "</table>\n",
       "<p>510 rows × 12 columns</p>\n",
       "</div>"
      ],
      "text/plain": [
       "        money       brand          model  year        color fuel_type  door  \\\n",
       "0    10350000      Toyota  Corolla Cross  2022     Plateado     Nafta   5.0   \n",
       "1    10850000        Jeep        Compass  2022       Blanco     Nafta   5.0   \n",
       "2       35500        Jeep        Compass  2022  Gris oscuro     Nafta   5.0   \n",
       "3       19000     Citroën      C4 Cactus  2022  Gris oscuro     Nafta   5.0   \n",
       "4     5800000      Toyota        Corolla  2019         Gris     Nafta   4.0   \n",
       "..        ...         ...            ...   ...          ...       ...   ...   \n",
       "505   5250000   Chevrolet        Tracker  2018         Gris     Nafta   5.0   \n",
       "506     46000  Volkswagen         Amarok  2019         Gris    Diésel   4.0   \n",
       "507   3960000     Peugeot           2008  2017       Blanco     Nafta   5.0   \n",
       "508     44900  Volkswagen         Amarok  2019         Gris    Diésel   4.0   \n",
       "509   2890000      Toyota          Etios  2015         Gris     Nafta   5.0   \n",
       "\n",
       "           gear motor  body_type  kilometres currency  \n",
       "0    Automática   NaN        SUV         500    pesos  \n",
       "1    Automática   2.4        SUV         500    pesos  \n",
       "2    Automática   2.4        SUV         500  dólares  \n",
       "3    Automática   NaN        SUV         550  dólares  \n",
       "4        Manual   1.8      Sedán        9000    pesos  \n",
       "..          ...   ...        ...         ...      ...  \n",
       "505  Automática   1.8        SUV       52000    pesos  \n",
       "506  Automática   3.0    Pick-Up       49000  dólares  \n",
       "507      Manual   1.6        SUV       75358    pesos  \n",
       "508  Automática   3.0    Pick-Up       57500  dólares  \n",
       "509      Manual   1.5  Hatchback       84000    pesos  \n",
       "\n",
       "[510 rows x 12 columns]"
      ]
     },
     "execution_count": 2,
     "metadata": {},
     "output_type": "execute_result"
    }
   ],
   "source": [
    "data = pd.read_csv(\"argentina_cars.csv\")\n",
    "data"
   ]
  },
  {
   "cell_type": "markdown",
   "id": "f2b9b003",
   "metadata": {},
   "source": [
    "##DATA PREPROCESSING"
   ]
  },
  {
   "cell_type": "code",
   "execution_count": 3,
   "id": "36a6ee6d",
   "metadata": {
    "scrolled": false
   },
   "outputs": [
    {
     "data": {
      "text/plain": [
       "money          0\n",
       "brand          0\n",
       "model          0\n",
       "year           0\n",
       "color         11\n",
       "fuel_type      0\n",
       "door           0\n",
       "gear           1\n",
       "motor         11\n",
       "body_type      1\n",
       "kilometres     0\n",
       "currency       0\n",
       "dtype: int64"
      ]
     },
     "execution_count": 3,
     "metadata": {},
     "output_type": "execute_result"
    }
   ],
   "source": [
    "data.isna().sum()"
   ]
  },
  {
   "cell_type": "code",
   "execution_count": 4,
   "id": "f79bb272",
   "metadata": {},
   "outputs": [
    {
     "data": {
      "text/html": [
       "<div>\n",
       "<style scoped>\n",
       "    .dataframe tbody tr th:only-of-type {\n",
       "        vertical-align: middle;\n",
       "    }\n",
       "\n",
       "    .dataframe tbody tr th {\n",
       "        vertical-align: top;\n",
       "    }\n",
       "\n",
       "    .dataframe thead th {\n",
       "        text-align: right;\n",
       "    }\n",
       "</style>\n",
       "<table border=\"1\" class=\"dataframe\">\n",
       "  <thead>\n",
       "    <tr style=\"text-align: right;\">\n",
       "      <th></th>\n",
       "      <th>money</th>\n",
       "      <th>brand</th>\n",
       "      <th>model</th>\n",
       "      <th>year</th>\n",
       "      <th>color</th>\n",
       "      <th>fuel_type</th>\n",
       "      <th>door</th>\n",
       "      <th>gear</th>\n",
       "      <th>motor</th>\n",
       "      <th>body_type</th>\n",
       "      <th>kilometres</th>\n",
       "      <th>currency</th>\n",
       "    </tr>\n",
       "  </thead>\n",
       "  <tbody>\n",
       "    <tr>\n",
       "      <th>1</th>\n",
       "      <td>10850000</td>\n",
       "      <td>Jeep</td>\n",
       "      <td>Compass</td>\n",
       "      <td>2022</td>\n",
       "      <td>Blanco</td>\n",
       "      <td>Nafta</td>\n",
       "      <td>5.0</td>\n",
       "      <td>Automática</td>\n",
       "      <td>2.4</td>\n",
       "      <td>SUV</td>\n",
       "      <td>500</td>\n",
       "      <td>pesos</td>\n",
       "    </tr>\n",
       "    <tr>\n",
       "      <th>2</th>\n",
       "      <td>35500</td>\n",
       "      <td>Jeep</td>\n",
       "      <td>Compass</td>\n",
       "      <td>2022</td>\n",
       "      <td>Gris oscuro</td>\n",
       "      <td>Nafta</td>\n",
       "      <td>5.0</td>\n",
       "      <td>Automática</td>\n",
       "      <td>2.4</td>\n",
       "      <td>SUV</td>\n",
       "      <td>500</td>\n",
       "      <td>dólares</td>\n",
       "    </tr>\n",
       "    <tr>\n",
       "      <th>4</th>\n",
       "      <td>5800000</td>\n",
       "      <td>Toyota</td>\n",
       "      <td>Corolla</td>\n",
       "      <td>2019</td>\n",
       "      <td>Gris</td>\n",
       "      <td>Nafta</td>\n",
       "      <td>4.0</td>\n",
       "      <td>Manual</td>\n",
       "      <td>1.8</td>\n",
       "      <td>Sedán</td>\n",
       "      <td>9000</td>\n",
       "      <td>pesos</td>\n",
       "    </tr>\n",
       "    <tr>\n",
       "      <th>5</th>\n",
       "      <td>34500</td>\n",
       "      <td>Jeep</td>\n",
       "      <td>Compass</td>\n",
       "      <td>2022</td>\n",
       "      <td>Negro</td>\n",
       "      <td>Nafta</td>\n",
       "      <td>5.0</td>\n",
       "      <td>Automática</td>\n",
       "      <td>1.3</td>\n",
       "      <td>SUV</td>\n",
       "      <td>10500</td>\n",
       "      <td>dólares</td>\n",
       "    </tr>\n",
       "    <tr>\n",
       "      <th>6</th>\n",
       "      <td>25000</td>\n",
       "      <td>Kia</td>\n",
       "      <td>Sorento</td>\n",
       "      <td>2014</td>\n",
       "      <td>Negro</td>\n",
       "      <td>Diésel</td>\n",
       "      <td>5.0</td>\n",
       "      <td>Automática</td>\n",
       "      <td>2.2</td>\n",
       "      <td>SUV</td>\n",
       "      <td>156000</td>\n",
       "      <td>dólares</td>\n",
       "    </tr>\n",
       "    <tr>\n",
       "      <th>...</th>\n",
       "      <td>...</td>\n",
       "      <td>...</td>\n",
       "      <td>...</td>\n",
       "      <td>...</td>\n",
       "      <td>...</td>\n",
       "      <td>...</td>\n",
       "      <td>...</td>\n",
       "      <td>...</td>\n",
       "      <td>...</td>\n",
       "      <td>...</td>\n",
       "      <td>...</td>\n",
       "      <td>...</td>\n",
       "    </tr>\n",
       "    <tr>\n",
       "      <th>505</th>\n",
       "      <td>5250000</td>\n",
       "      <td>Chevrolet</td>\n",
       "      <td>Tracker</td>\n",
       "      <td>2018</td>\n",
       "      <td>Gris</td>\n",
       "      <td>Nafta</td>\n",
       "      <td>5.0</td>\n",
       "      <td>Automática</td>\n",
       "      <td>1.8</td>\n",
       "      <td>SUV</td>\n",
       "      <td>52000</td>\n",
       "      <td>pesos</td>\n",
       "    </tr>\n",
       "    <tr>\n",
       "      <th>506</th>\n",
       "      <td>46000</td>\n",
       "      <td>Volkswagen</td>\n",
       "      <td>Amarok</td>\n",
       "      <td>2019</td>\n",
       "      <td>Gris</td>\n",
       "      <td>Diésel</td>\n",
       "      <td>4.0</td>\n",
       "      <td>Automática</td>\n",
       "      <td>3.0</td>\n",
       "      <td>Pick-Up</td>\n",
       "      <td>49000</td>\n",
       "      <td>dólares</td>\n",
       "    </tr>\n",
       "    <tr>\n",
       "      <th>507</th>\n",
       "      <td>3960000</td>\n",
       "      <td>Peugeot</td>\n",
       "      <td>2008</td>\n",
       "      <td>2017</td>\n",
       "      <td>Blanco</td>\n",
       "      <td>Nafta</td>\n",
       "      <td>5.0</td>\n",
       "      <td>Manual</td>\n",
       "      <td>1.6</td>\n",
       "      <td>SUV</td>\n",
       "      <td>75358</td>\n",
       "      <td>pesos</td>\n",
       "    </tr>\n",
       "    <tr>\n",
       "      <th>508</th>\n",
       "      <td>44900</td>\n",
       "      <td>Volkswagen</td>\n",
       "      <td>Amarok</td>\n",
       "      <td>2019</td>\n",
       "      <td>Gris</td>\n",
       "      <td>Diésel</td>\n",
       "      <td>4.0</td>\n",
       "      <td>Automática</td>\n",
       "      <td>3.0</td>\n",
       "      <td>Pick-Up</td>\n",
       "      <td>57500</td>\n",
       "      <td>dólares</td>\n",
       "    </tr>\n",
       "    <tr>\n",
       "      <th>509</th>\n",
       "      <td>2890000</td>\n",
       "      <td>Toyota</td>\n",
       "      <td>Etios</td>\n",
       "      <td>2015</td>\n",
       "      <td>Gris</td>\n",
       "      <td>Nafta</td>\n",
       "      <td>5.0</td>\n",
       "      <td>Manual</td>\n",
       "      <td>1.5</td>\n",
       "      <td>Hatchback</td>\n",
       "      <td>84000</td>\n",
       "      <td>pesos</td>\n",
       "    </tr>\n",
       "  </tbody>\n",
       "</table>\n",
       "<p>487 rows × 12 columns</p>\n",
       "</div>"
      ],
      "text/plain": [
       "        money       brand    model  year        color fuel_type  door  \\\n",
       "1    10850000        Jeep  Compass  2022       Blanco     Nafta   5.0   \n",
       "2       35500        Jeep  Compass  2022  Gris oscuro     Nafta   5.0   \n",
       "4     5800000      Toyota  Corolla  2019         Gris     Nafta   4.0   \n",
       "5       34500        Jeep  Compass  2022        Negro     Nafta   5.0   \n",
       "6       25000         Kia  Sorento  2014        Negro    Diésel   5.0   \n",
       "..        ...         ...      ...   ...          ...       ...   ...   \n",
       "505   5250000   Chevrolet  Tracker  2018         Gris     Nafta   5.0   \n",
       "506     46000  Volkswagen   Amarok  2019         Gris    Diésel   4.0   \n",
       "507   3960000     Peugeot     2008  2017       Blanco     Nafta   5.0   \n",
       "508     44900  Volkswagen   Amarok  2019         Gris    Diésel   4.0   \n",
       "509   2890000      Toyota    Etios  2015         Gris     Nafta   5.0   \n",
       "\n",
       "           gear motor  body_type  kilometres currency  \n",
       "1    Automática   2.4        SUV         500    pesos  \n",
       "2    Automática   2.4        SUV         500  dólares  \n",
       "4        Manual   1.8      Sedán        9000    pesos  \n",
       "5    Automática   1.3        SUV       10500  dólares  \n",
       "6    Automática   2.2        SUV      156000  dólares  \n",
       "..          ...   ...        ...         ...      ...  \n",
       "505  Automática   1.8        SUV       52000    pesos  \n",
       "506  Automática   3.0    Pick-Up       49000  dólares  \n",
       "507      Manual   1.6        SUV       75358    pesos  \n",
       "508  Automática   3.0    Pick-Up       57500  dólares  \n",
       "509      Manual   1.5  Hatchback       84000    pesos  \n",
       "\n",
       "[487 rows x 12 columns]"
      ]
     },
     "execution_count": 4,
     "metadata": {},
     "output_type": "execute_result"
    }
   ],
   "source": [
    "dr_data = data.dropna(how='any')\n",
    "dr_data"
   ]
  },
  {
   "cell_type": "code",
   "execution_count": 5,
   "id": "da73ed05",
   "metadata": {},
   "outputs": [
    {
     "data": {
      "text/plain": [
       "money         0\n",
       "brand         0\n",
       "model         0\n",
       "year          0\n",
       "color         0\n",
       "fuel_type     0\n",
       "door          0\n",
       "gear          0\n",
       "motor         0\n",
       "body_type     0\n",
       "kilometres    0\n",
       "currency      0\n",
       "dtype: int64"
      ]
     },
     "execution_count": 5,
     "metadata": {},
     "output_type": "execute_result"
    }
   ],
   "source": [
    "dr_data.isna().sum()"
   ]
  },
  {
   "cell_type": "code",
   "execution_count": 6,
   "id": "54b61e07",
   "metadata": {},
   "outputs": [
    {
     "data": {
      "text/html": [
       "<div>\n",
       "<style scoped>\n",
       "    .dataframe tbody tr th:only-of-type {\n",
       "        vertical-align: middle;\n",
       "    }\n",
       "\n",
       "    .dataframe tbody tr th {\n",
       "        vertical-align: top;\n",
       "    }\n",
       "\n",
       "    .dataframe thead th {\n",
       "        text-align: right;\n",
       "    }\n",
       "</style>\n",
       "<table border=\"1\" class=\"dataframe\">\n",
       "  <thead>\n",
       "    <tr style=\"text-align: right;\">\n",
       "      <th></th>\n",
       "      <th>money</th>\n",
       "      <th>brand</th>\n",
       "      <th>model</th>\n",
       "      <th>year</th>\n",
       "      <th>color</th>\n",
       "      <th>fuel_type</th>\n",
       "      <th>door</th>\n",
       "      <th>gear</th>\n",
       "      <th>motor</th>\n",
       "      <th>body_type</th>\n",
       "      <th>kilometres</th>\n",
       "      <th>currency</th>\n",
       "    </tr>\n",
       "  </thead>\n",
       "  <tbody>\n",
       "    <tr>\n",
       "      <th>1</th>\n",
       "      <td>10850000</td>\n",
       "      <td>Jeep</td>\n",
       "      <td>Compass</td>\n",
       "      <td>2022</td>\n",
       "      <td>Blanco</td>\n",
       "      <td>Nafta</td>\n",
       "      <td>5.0</td>\n",
       "      <td>Automática</td>\n",
       "      <td>2.4</td>\n",
       "      <td>SUV</td>\n",
       "      <td>500</td>\n",
       "      <td>pesos</td>\n",
       "    </tr>\n",
       "    <tr>\n",
       "      <th>2</th>\n",
       "      <td>35500</td>\n",
       "      <td>Jeep</td>\n",
       "      <td>Compass</td>\n",
       "      <td>2022</td>\n",
       "      <td>Gris oscuro</td>\n",
       "      <td>Nafta</td>\n",
       "      <td>5.0</td>\n",
       "      <td>Automática</td>\n",
       "      <td>2.4</td>\n",
       "      <td>SUV</td>\n",
       "      <td>500</td>\n",
       "      <td>dólares</td>\n",
       "    </tr>\n",
       "    <tr>\n",
       "      <th>4</th>\n",
       "      <td>5800000</td>\n",
       "      <td>Toyota</td>\n",
       "      <td>Corolla</td>\n",
       "      <td>2019</td>\n",
       "      <td>Gris</td>\n",
       "      <td>Nafta</td>\n",
       "      <td>4.0</td>\n",
       "      <td>Manual</td>\n",
       "      <td>1.8</td>\n",
       "      <td>Sedán</td>\n",
       "      <td>9000</td>\n",
       "      <td>pesos</td>\n",
       "    </tr>\n",
       "    <tr>\n",
       "      <th>5</th>\n",
       "      <td>34500</td>\n",
       "      <td>Jeep</td>\n",
       "      <td>Compass</td>\n",
       "      <td>2022</td>\n",
       "      <td>Negro</td>\n",
       "      <td>Nafta</td>\n",
       "      <td>5.0</td>\n",
       "      <td>Automática</td>\n",
       "      <td>1.3</td>\n",
       "      <td>SUV</td>\n",
       "      <td>10500</td>\n",
       "      <td>dólares</td>\n",
       "    </tr>\n",
       "    <tr>\n",
       "      <th>6</th>\n",
       "      <td>25000</td>\n",
       "      <td>Kia</td>\n",
       "      <td>Sorento</td>\n",
       "      <td>2014</td>\n",
       "      <td>Negro</td>\n",
       "      <td>Diésel</td>\n",
       "      <td>5.0</td>\n",
       "      <td>Automática</td>\n",
       "      <td>2.2</td>\n",
       "      <td>SUV</td>\n",
       "      <td>156000</td>\n",
       "      <td>dólares</td>\n",
       "    </tr>\n",
       "    <tr>\n",
       "      <th>...</th>\n",
       "      <td>...</td>\n",
       "      <td>...</td>\n",
       "      <td>...</td>\n",
       "      <td>...</td>\n",
       "      <td>...</td>\n",
       "      <td>...</td>\n",
       "      <td>...</td>\n",
       "      <td>...</td>\n",
       "      <td>...</td>\n",
       "      <td>...</td>\n",
       "      <td>...</td>\n",
       "      <td>...</td>\n",
       "    </tr>\n",
       "    <tr>\n",
       "      <th>505</th>\n",
       "      <td>5250000</td>\n",
       "      <td>Chevrolet</td>\n",
       "      <td>Tracker</td>\n",
       "      <td>2018</td>\n",
       "      <td>Gris</td>\n",
       "      <td>Nafta</td>\n",
       "      <td>5.0</td>\n",
       "      <td>Automática</td>\n",
       "      <td>1.8</td>\n",
       "      <td>SUV</td>\n",
       "      <td>52000</td>\n",
       "      <td>pesos</td>\n",
       "    </tr>\n",
       "    <tr>\n",
       "      <th>506</th>\n",
       "      <td>46000</td>\n",
       "      <td>Volkswagen</td>\n",
       "      <td>Amarok</td>\n",
       "      <td>2019</td>\n",
       "      <td>Gris</td>\n",
       "      <td>Diésel</td>\n",
       "      <td>4.0</td>\n",
       "      <td>Automática</td>\n",
       "      <td>3.0</td>\n",
       "      <td>Pick-Up</td>\n",
       "      <td>49000</td>\n",
       "      <td>dólares</td>\n",
       "    </tr>\n",
       "    <tr>\n",
       "      <th>507</th>\n",
       "      <td>3960000</td>\n",
       "      <td>Peugeot</td>\n",
       "      <td>2008</td>\n",
       "      <td>2017</td>\n",
       "      <td>Blanco</td>\n",
       "      <td>Nafta</td>\n",
       "      <td>5.0</td>\n",
       "      <td>Manual</td>\n",
       "      <td>1.6</td>\n",
       "      <td>SUV</td>\n",
       "      <td>75358</td>\n",
       "      <td>pesos</td>\n",
       "    </tr>\n",
       "    <tr>\n",
       "      <th>508</th>\n",
       "      <td>44900</td>\n",
       "      <td>Volkswagen</td>\n",
       "      <td>Amarok</td>\n",
       "      <td>2019</td>\n",
       "      <td>Gris</td>\n",
       "      <td>Diésel</td>\n",
       "      <td>4.0</td>\n",
       "      <td>Automática</td>\n",
       "      <td>3.0</td>\n",
       "      <td>Pick-Up</td>\n",
       "      <td>57500</td>\n",
       "      <td>dólares</td>\n",
       "    </tr>\n",
       "    <tr>\n",
       "      <th>509</th>\n",
       "      <td>2890000</td>\n",
       "      <td>Toyota</td>\n",
       "      <td>Etios</td>\n",
       "      <td>2015</td>\n",
       "      <td>Gris</td>\n",
       "      <td>Nafta</td>\n",
       "      <td>5.0</td>\n",
       "      <td>Manual</td>\n",
       "      <td>1.5</td>\n",
       "      <td>Hatchback</td>\n",
       "      <td>84000</td>\n",
       "      <td>pesos</td>\n",
       "    </tr>\n",
       "  </tbody>\n",
       "</table>\n",
       "<p>469 rows × 12 columns</p>\n",
       "</div>"
      ],
      "text/plain": [
       "        money       brand    model  year        color fuel_type  door  \\\n",
       "1    10850000        Jeep  Compass  2022       Blanco     Nafta   5.0   \n",
       "2       35500        Jeep  Compass  2022  Gris oscuro     Nafta   5.0   \n",
       "4     5800000      Toyota  Corolla  2019         Gris     Nafta   4.0   \n",
       "5       34500        Jeep  Compass  2022        Negro     Nafta   5.0   \n",
       "6       25000         Kia  Sorento  2014        Negro    Diésel   5.0   \n",
       "..        ...         ...      ...   ...          ...       ...   ...   \n",
       "505   5250000   Chevrolet  Tracker  2018         Gris     Nafta   5.0   \n",
       "506     46000  Volkswagen   Amarok  2019         Gris    Diésel   4.0   \n",
       "507   3960000     Peugeot     2008  2017       Blanco     Nafta   5.0   \n",
       "508     44900  Volkswagen   Amarok  2019         Gris    Diésel   4.0   \n",
       "509   2890000      Toyota    Etios  2015         Gris     Nafta   5.0   \n",
       "\n",
       "           gear motor  body_type  kilometres currency  \n",
       "1    Automática   2.4        SUV         500    pesos  \n",
       "2    Automática   2.4        SUV         500  dólares  \n",
       "4        Manual   1.8      Sedán        9000    pesos  \n",
       "5    Automática   1.3        SUV       10500  dólares  \n",
       "6    Automática   2.2        SUV      156000  dólares  \n",
       "..          ...   ...        ...         ...      ...  \n",
       "505  Automática   1.8        SUV       52000    pesos  \n",
       "506  Automática   3.0    Pick-Up       49000  dólares  \n",
       "507      Manual   1.6        SUV       75358    pesos  \n",
       "508  Automática   3.0    Pick-Up       57500  dólares  \n",
       "509      Manual   1.5  Hatchback       84000    pesos  \n",
       "\n",
       "[469 rows x 12 columns]"
      ]
     },
     "execution_count": 6,
     "metadata": {},
     "output_type": "execute_result"
    }
   ],
   "source": [
    "dr_data=dr_data.loc[(dr_data.year>=2010)]\n",
    "dr_data"
   ]
  },
  {
   "cell_type": "code",
   "execution_count": 7,
   "id": "f9ec794c",
   "metadata": {},
   "outputs": [],
   "source": [
    "dr_data =dr_data.drop(['model','color','door','motor','body_type','currency'],axis=1)"
   ]
  },
  {
   "cell_type": "code",
   "execution_count": 8,
   "id": "c8de17ab",
   "metadata": {},
   "outputs": [
    {
     "data": {
      "text/plain": [
       "Nafta            383\n",
       "Diésel            64\n",
       "Nafta/GNC         19\n",
       "Híbrido/Nafta      3\n",
       "Name: fuel_type, dtype: int64"
      ]
     },
     "execution_count": 8,
     "metadata": {},
     "output_type": "execute_result"
    }
   ],
   "source": [
    "# dr_data[\"fuel_type\"].unique()\n",
    "dr_data[\"fuel_type\"].value_counts()"
   ]
  },
  {
   "cell_type": "code",
   "execution_count": 9,
   "id": "0740edbe",
   "metadata": {},
   "outputs": [
    {
     "data": {
      "text/plain": [
       "array(['Automática', 'Manual'], dtype=object)"
      ]
     },
     "execution_count": 9,
     "metadata": {},
     "output_type": "execute_result"
    }
   ],
   "source": [
    "dr_data[\"gear\"].unique()"
   ]
  },
  {
   "cell_type": "code",
   "execution_count": 10,
   "id": "c2aa2547",
   "metadata": {},
   "outputs": [],
   "source": [
    "dr_data=dr_data.replace({'fuel_type':{'Nafta':0,'Diésel':1,'Nafta/GNC':2,'Híbrido/Nafta':3}})\n",
    "dr_data=dr_data.replace({'gear':{'Automática':0, 'Manual':1}})"
   ]
  },
  {
   "cell_type": "markdown",
   "id": "fe28cf5e",
   "metadata": {},
   "source": [
    "##DATA VISUALIZATION"
   ]
  },
  {
   "cell_type": "code",
   "execution_count": 11,
   "id": "f321b58e",
   "metadata": {},
   "outputs": [],
   "source": [
    "dat_vis=dr_data.loc[(dr_data.year>=2015)]"
   ]
  },
  {
   "cell_type": "code",
   "execution_count": 12,
   "id": "13c5e19e",
   "metadata": {},
   "outputs": [
    {
     "data": {
      "text/plain": [
       "(array([ 0,  1,  2,  3,  4,  5,  6,  7,  8,  9, 10, 11, 12, 13, 14, 15, 16,\n",
       "        17, 18, 19, 20, 21]),\n",
       " [Text(0, 0, 'Jeep'),\n",
       "  Text(1, 0, 'Toyota'),\n",
       "  Text(2, 0, 'BMW'),\n",
       "  Text(3, 0, 'Volkswagen'),\n",
       "  Text(4, 0, 'Mercedes-Benz'),\n",
       "  Text(5, 0, 'Ford'),\n",
       "  Text(6, 0, 'Fiat'),\n",
       "  Text(7, 0, 'Honda'),\n",
       "  Text(8, 0, 'Chevrolet'),\n",
       "  Text(9, 0, 'Peugeot'),\n",
       "  Text(10, 0, 'Citroën'),\n",
       "  Text(11, 0, 'Nissan'),\n",
       "  Text(12, 0, 'Renault'),\n",
       "  Text(13, 0, 'RAM'),\n",
       "  Text(14, 0, 'Hyundai'),\n",
       "  Text(15, 0, 'Baic'),\n",
       "  Text(16, 0, 'Dodge'),\n",
       "  Text(17, 0, 'Mitsubishi'),\n",
       "  Text(18, 0, 'Audi'),\n",
       "  Text(19, 0, 'Chery'),\n",
       "  Text(20, 0, 'Kia'),\n",
       "  Text(21, 0, 'DS')])"
      ]
     },
     "execution_count": 12,
     "metadata": {},
     "output_type": "execute_result"
    },
    {
     "data": {
      "image/png": "[encoded data removed]",
      "text/plain": [
       "<Figure size 1080x720 with 1 Axes>"
      ]
     },
     "metadata": {
      "needs_background": "light"
     },
     "output_type": "display_data"
    }
   ],
   "source": [
    "plt.figure(figsize=[15,10])\n",
    "plt.suptitle(\"Usage of brands\")\n",
    "sb.countplot(x=dat_vis[\"brand\"],hue=dat_vis[\"year\"])\n",
    "plt.xticks(rotation=90)"
   ]
  },
  {
   "cell_type": "code",
   "execution_count": 13,
   "id": "0046b2b7",
   "metadata": {},
   "outputs": [
    {
     "data": {
      "text/plain": [
       "(array([ 0,  1,  2,  3,  4,  5,  6,  7,  8,  9, 10, 11, 12, 13, 14, 15, 16,\n",
       "        17, 18, 19, 20, 21]),\n",
       " [Text(0, 0, 'Jeep'),\n",
       "  Text(1, 0, 'Toyota'),\n",
       "  Text(2, 0, 'BMW'),\n",
       "  Text(3, 0, 'Volkswagen'),\n",
       "  Text(4, 0, 'Mercedes-Benz'),\n",
       "  Text(5, 0, 'Ford'),\n",
       "  Text(6, 0, 'Fiat'),\n",
       "  Text(7, 0, 'Honda'),\n",
       "  Text(8, 0, 'Chevrolet'),\n",
       "  Text(9, 0, 'Peugeot'),\n",
       "  Text(10, 0, 'Citroën'),\n",
       "  Text(11, 0, 'Nissan'),\n",
       "  Text(12, 0, 'Renault'),\n",
       "  Text(13, 0, 'RAM'),\n",
       "  Text(14, 0, 'Hyundai'),\n",
       "  Text(15, 0, 'Baic'),\n",
       "  Text(16, 0, 'Dodge'),\n",
       "  Text(17, 0, 'Mitsubishi'),\n",
       "  Text(18, 0, 'Audi'),\n",
       "  Text(19, 0, 'Chery'),\n",
       "  Text(20, 0, 'Kia'),\n",
       "  Text(21, 0, 'DS')])"
      ]
     },
     "execution_count": 13,
     "metadata": {},
     "output_type": "execute_result"
    },
    {
     "data": {
      "image/png": "[encoded data removed]",
      "text/plain": [
       "<Figure size 1080x576 with 1 Axes>"
      ]
     },
     "metadata": {
      "needs_background": "light"
     },
     "output_type": "display_data"
    }
   ],
   "source": [
    "plt.figure(figsize=[15,8])\n",
    "plt.suptitle(\"Transmission types of brands\")\n",
    "sb.countplot(x=dat_vis[\"brand\"],hue=dat_vis[\"gear\"])\n",
    "plt.xticks(rotation=90)"
   ]
  },
  {
   "cell_type": "code",
   "execution_count": 14,
   "id": "a64e6091",
   "metadata": {},
   "outputs": [
    {
     "data": {
      "text/plain": [
       "<AxesSubplot:>"
      ]
     },
     "execution_count": 14,
     "metadata": {},
     "output_type": "execute_result"
    },
    {
     "data": {
      "image/png": "[encoded data removed]",
      "text/plain": [
       "<Figure size 720x720 with 2 Axes>"
      ]
     },
     "metadata": {
      "needs_background": "light"
     },
     "output_type": "display_data"
    }
   ],
   "source": [
    "cor_matrix = dr_data.corr()\n",
    "plt.figure(figsize=[10,10])\n",
    "sb.heatmap(data=cor_matrix,annot=True)"
   ]
  },
  {
   "cell_type": "code",
   "execution_count": 15,
   "id": "b1787aac",
   "metadata": {},
   "outputs": [
    {
     "data": {
      "text/plain": [
       "<AxesSubplot:xlabel='fuel_type', ylabel='money'>"
      ]
     },
     "execution_count": 15,
     "metadata": {},
     "output_type": "execute_result"
    },
    {
     "data": {
      "image/png": "[encoded data removed]",
      "text/plain": [
       "<Figure size 432x288 with 1 Axes>"
      ]
     },
     "metadata": {
      "needs_background": "light"
     },
     "output_type": "display_data"
    }
   ],
   "source": [
    "sb.barplot(x=dr_data['fuel_type'],y=dr_data['money'])"
   ]
  },
  {
   "cell_type": "code",
   "execution_count": 16,
   "id": "23202b15",
   "metadata": {},
   "outputs": [
    {
     "data": {
      "text/plain": [
       "<AxesSubplot:xlabel='gear', ylabel='money'>"
      ]
     },
     "execution_count": 16,
     "metadata": {},
     "output_type": "execute_result"
    },
    {
     "data": {
      "image/png": "[encoded data removed]",
      "text/plain": [
       "<Figure size 432x288 with 1 Axes>"
      ]
     },
     "metadata": {
      "needs_background": "light"
     },
     "output_type": "display_data"
    }
   ],
   "source": [
    "sb.barplot(x=dr_data['gear'],y=dr_data['money'])"
   ]
  },
  {
   "cell_type": "code",
   "execution_count": 17,
   "id": "7f1da3fd",
   "metadata": {},
   "outputs": [
    {
     "data": {
      "text/plain": [
       "<AxesSubplot:xlabel='year', ylabel='money'>"
      ]
     },
     "execution_count": 17,
     "metadata": {},
     "output_type": "execute_result"
    },
    {
     "data": {
      "image/png": "[encoded data removed]",
      "text/plain": [
       "<Figure size 720x720 with 1 Axes>"
      ]
     },
     "metadata": {
      "needs_background": "light"
     },
     "output_type": "display_data"
    }
   ],
   "source": [
    "plt.figure(figsize=[10,10])\n",
    "sb.regplot(x=dr_data['year'],y=dr_data['money'])"
   ]
  }
 ],
 "metadata": {
  "kernelspec": {
   "display_name": "Python 3 (ipykernel)",
   "language": "python",
   "name": "python3"
  },
  "language_info": {
   "codemirror_mode": {
    "name": "ipython",
    "version": 3
   },
   "file_extension": ".py",
   "mimetype": "text/x-python",
   "name": "python",
   "nbconvert_exporter": "python",
   "pygments_lexer": "ipython3",
   "version": "3.9.7"
  },
  "varInspector": {
   "cols": {
    "lenName": 16,
    "lenType": 16,
    "lenVar": 40
   },
   "kernels_config": {
    "python": {
     "delete_cmd_postfix": "",
     "delete_cmd_prefix": "del ",
     "library": "var_list.py",
     "varRefreshCmd": "print(var_dic_list())"
    },
    "r": {
     "delete_cmd_postfix": ") ",
     "delete_cmd_prefix": "rm(",
     "library": "var_list.r",
     "varRefreshCmd": "cat(var_dic_list()) "
    }
   },
   "types_to_exclude": [
    "module",
    "function",
    "builtin_function_or_method",
    "instance",
    "_Feature"
   ],
   "window_display": false
  }
 },
 "nbformat": 4,
 "nbformat_minor": 5
}
